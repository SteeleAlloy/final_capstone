{
 "cells": [
  {
   "cell_type": "code",
   "execution_count": 1,
   "metadata": {},
   "outputs": [],
   "source": [
    "import pandas as pd\n",
    "import numpy as np\n",
    "import seaborn as sns\n",
    "import matplotlib.pyplot as plt\n",
    "import os\n",
    "import requests\n",
    "%matplotlib inline"
   ]
  },
  {
   "cell_type": "markdown",
   "metadata": {},
   "source": [
    "My API key for US census is: 3ada656ee00c7265bca8c8209fa3e7b10f49f38b"
   ]
  },
  {
   "cell_type": "code",
   "execution_count": 6,
   "metadata": {},
   "outputs": [],
   "source": [
    "request = requests.get('https://api.census.gov/data/2018/acs/acs1/profile?get=group(DP03)&for=us:1&key=3ada656ee00c7265bca8c8209fa3e7b10f49f38b')"
   ]
  },
  {
   "cell_type": "code",
   "execution_count": 11,
   "metadata": {},
   "outputs": [],
   "source": [
    "import json\n",
    "\n",
    "data1 = request.json"
   ]
  },
  {
   "cell_type": "code",
   "execution_count": 16,
   "metadata": {},
   "outputs": [
    {
     "data": {
      "text/plain": [
       "<bound method Response.json of <Response [200]>>"
      ]
     },
     "execution_count": 16,
     "metadata": {},
     "output_type": "execute_result"
    }
   ],
   "source": [
    "data1"
   ]
  },
  {
   "cell_type": "code",
   "execution_count": 24,
   "metadata": {},
   "outputs": [
    {
     "data": {
      "text/plain": [
       "2"
      ]
     },
     "execution_count": 24,
     "metadata": {},
     "output_type": "execute_result"
    }
   ],
   "source": [
    "len(data1())"
   ]
  },
  {
   "cell_type": "code",
   "execution_count": 19,
   "metadata": {},
   "outputs": [
    {
     "data": {
      "text/plain": [
       "'C:\\\\Users\\\\gothv\\\\Jupyter\\\\final_capstone'"
      ]
     },
     "execution_count": 19,
     "metadata": {},
     "output_type": "execute_result"
    }
   ],
   "source": [
    "os.getcwd()"
   ]
  },
  {
   "cell_type": "code",
   "execution_count": null,
   "metadata": {},
   "outputs": [],
   "source": []
  },
  {
   "cell_type": "code",
   "execution_count": 18,
   "metadata": {},
   "outputs": [],
   "source": [
    "with open('dp03_18.json', 'w') as json_file:\n",
    "    json.dump(data1(), json_file)"
   ]
  },
  {
   "cell_type": "code",
   "execution_count": 21,
   "metadata": {},
   "outputs": [
    {
     "data": {
      "text/html": [
       "<div>\n",
       "<style scoped>\n",
       "    .dataframe tbody tr th:only-of-type {\n",
       "        vertical-align: middle;\n",
       "    }\n",
       "\n",
       "    .dataframe tbody tr th {\n",
       "        vertical-align: top;\n",
       "    }\n",
       "\n",
       "    .dataframe thead th {\n",
       "        text-align: right;\n",
       "    }\n",
       "</style>\n",
       "<table border=\"1\" class=\"dataframe\">\n",
       "  <thead>\n",
       "    <tr style=\"text-align: right;\">\n",
       "      <th></th>\n",
       "      <th>0</th>\n",
       "      <th>1</th>\n",
       "      <th>2</th>\n",
       "      <th>3</th>\n",
       "      <th>4</th>\n",
       "      <th>5</th>\n",
       "      <th>6</th>\n",
       "      <th>7</th>\n",
       "      <th>8</th>\n",
       "      <th>9</th>\n",
       "      <th>...</th>\n",
       "      <th>1089</th>\n",
       "      <th>1090</th>\n",
       "      <th>1091</th>\n",
       "      <th>1092</th>\n",
       "      <th>1093</th>\n",
       "      <th>1094</th>\n",
       "      <th>1095</th>\n",
       "      <th>1096</th>\n",
       "      <th>1097</th>\n",
       "      <th>1098</th>\n",
       "    </tr>\n",
       "  </thead>\n",
       "  <tbody>\n",
       "    <tr>\n",
       "      <th>0</th>\n",
       "      <td>GEO_ID</td>\n",
       "      <td>DP03_0001E</td>\n",
       "      <td>DP03_0001M</td>\n",
       "      <td>DP03_0001PE</td>\n",
       "      <td>DP03_0001PM</td>\n",
       "      <td>DP03_0002E</td>\n",
       "      <td>DP03_0002M</td>\n",
       "      <td>DP03_0002PE</td>\n",
       "      <td>DP03_0002PM</td>\n",
       "      <td>DP03_0003E</td>\n",
       "      <td>...</td>\n",
       "      <td>DP03_0135PMA</td>\n",
       "      <td>DP03_0136EA</td>\n",
       "      <td>DP03_0136MA</td>\n",
       "      <td>DP03_0136PEA</td>\n",
       "      <td>DP03_0136PMA</td>\n",
       "      <td>DP03_0137EA</td>\n",
       "      <td>DP03_0137MA</td>\n",
       "      <td>DP03_0137PEA</td>\n",
       "      <td>DP03_0137PMA</td>\n",
       "      <td>us</td>\n",
       "    </tr>\n",
       "    <tr>\n",
       "      <th>1</th>\n",
       "      <td>0100000US</td>\n",
       "      <td>262185951</td>\n",
       "      <td>45377</td>\n",
       "      <td>262185951</td>\n",
       "      <td>-888888888</td>\n",
       "      <td>165907527</td>\n",
       "      <td>144737</td>\n",
       "      <td>63.3</td>\n",
       "      <td>0.1</td>\n",
       "      <td>164898275</td>\n",
       "      <td>...</td>\n",
       "      <td>None</td>\n",
       "      <td>(X)</td>\n",
       "      <td>(X)</td>\n",
       "      <td>None</td>\n",
       "      <td>None</td>\n",
       "      <td>(X)</td>\n",
       "      <td>(X)</td>\n",
       "      <td>None</td>\n",
       "      <td>None</td>\n",
       "      <td>1</td>\n",
       "    </tr>\n",
       "  </tbody>\n",
       "</table>\n",
       "<p>2 rows × 1099 columns</p>\n",
       "</div>"
      ],
      "text/plain": [
       "        0           1           2            3            4           5     \\\n",
       "0     GEO_ID  DP03_0001E  DP03_0001M  DP03_0001PE  DP03_0001PM  DP03_0002E   \n",
       "1  0100000US   262185951       45377    262185951   -888888888   165907527   \n",
       "\n",
       "         6            7            8           9     ...          1089  \\\n",
       "0  DP03_0002M  DP03_0002PE  DP03_0002PM  DP03_0003E  ...  DP03_0135PMA   \n",
       "1      144737         63.3          0.1   164898275  ...          None   \n",
       "\n",
       "          1090         1091          1092          1093         1094  \\\n",
       "0  DP03_0136EA  DP03_0136MA  DP03_0136PEA  DP03_0136PMA  DP03_0137EA   \n",
       "1          (X)          (X)          None          None          (X)   \n",
       "\n",
       "          1095          1096          1097 1098  \n",
       "0  DP03_0137MA  DP03_0137PEA  DP03_0137PMA   us  \n",
       "1          (X)          None          None    1  \n",
       "\n",
       "[2 rows x 1099 columns]"
      ]
     },
     "execution_count": 21,
     "metadata": {},
     "output_type": "execute_result"
    }
   ],
   "source": [
    "pd.read_json('dp03_18.json', orient= 'columns')"
   ]
  },
  {
   "cell_type": "markdown",
   "metadata": {},
   "source": [
    "API Call Format:\n",
    "http://api.census.gov/data/2018/acs/acs1/profile?get=group(DP03)&for=us:1&key=YOUR_KEY_GOES_HERE"
   ]
  },
  {
   "cell_type": "markdown",
   "metadata": {},
   "source": [
    "## Trying to better understand the API Call Structure for U.S. Census"
   ]
  },
  {
   "cell_type": "code",
   "execution_count": 25,
   "metadata": {},
   "outputs": [],
   "source": [
    "# Sample API Call- should return the DP02 profile for Texas\n",
    "fake_request = requests.get('https://api.census.gov/data/2018/acs/acs1/profile?get=NAME,DP02_0001E&for=state:48&key=3ada656ee00c7265bca8c8209fa3e7b10f49f38b')"
   ]
  },
  {
   "cell_type": "code",
   "execution_count": 26,
   "metadata": {},
   "outputs": [],
   "source": [
    "fake_data = fake_request.json"
   ]
  },
  {
   "cell_type": "code",
   "execution_count": 29,
   "metadata": {},
   "outputs": [
    {
     "data": {
      "text/plain": [
       "2"
      ]
     },
     "execution_count": 29,
     "metadata": {},
     "output_type": "execute_result"
    }
   ],
   "source": [
    "len(fake_data())"
   ]
  },
  {
   "cell_type": "code",
   "execution_count": 31,
   "metadata": {},
   "outputs": [
    {
     "data": {
      "text/plain": [
       "[['NAME', 'DP02_0001E', 'state'], ['Texas', '9776083', '48']]"
      ]
     },
     "execution_count": 31,
     "metadata": {},
     "output_type": "execute_result"
    }
   ],
   "source": [
    "fake_data()"
   ]
  },
  {
   "cell_type": "markdown",
   "metadata": {},
   "source": [
    "Ok, we're getting a little closer! What we have above is one row of data from the Data profiles section of the ACS 1year report from 2018. The DP02__## is only one of the variables. This query selected the name of the state, the info for just that variable and the code for the state. Let's see if we can go down more levels with the same variable."
   ]
  },
  {
   "cell_type": "code",
   "execution_count": 81,
   "metadata": {},
   "outputs": [],
   "source": [
    "# Sample call for counties in Texas for just that specific variable\n",
    "sample.encoding = 'utf-8'\n",
    "sample = requests.get('https://api.census.gov/data/2018/acs/acs1/profile?get=NAME,DP02_0001E&for=state:48&key=3ada656ee00c7265bca8c8209fa3e7b10f49f38b')\n"
   ]
  },
  {
   "cell_type": "code",
   "execution_count": 82,
   "metadata": {},
   "outputs": [
    {
     "data": {
      "text/plain": [
       "'[[\"NAME\",\"DP02_0001E\",\"state\"],\\n[\"Texas\",\"9776083\",\"48\"]]'"
      ]
     },
     "execution_count": 82,
     "metadata": {},
     "output_type": "execute_result"
    }
   ],
   "source": [
    "sample.text"
   ]
  },
  {
   "cell_type": "code",
   "execution_count": 117,
   "metadata": {},
   "outputs": [],
   "source": [
    "# Trying again with more detail to my api call to see if I can actually get what I want to return\n",
    "response = requests.get('https://api.census.gov/data/2018/acs/acs1/profile?get=NAME,DP03_0001E&for=county:113&in=state:48&key=3ada656ee00c7265bca8c8209fa3e7b10f49f38b')\n",
    "response.encoding = 'utf-8'\n"
   ]
  },
  {
   "cell_type": "code",
   "execution_count": 118,
   "metadata": {},
   "outputs": [
    {
     "data": {
      "text/plain": [
       "''"
      ]
     },
     "execution_count": 118,
     "metadata": {},
     "output_type": "execute_result"
    }
   ],
   "source": [
    "response.text"
   ]
  },
  {
   "cell_type": "code",
   "execution_count": null,
   "metadata": {},
   "outputs": [],
   "source": []
  },
  {
   "cell_type": "code",
   "execution_count": null,
   "metadata": {},
   "outputs": [],
   "source": []
  },
  {
   "cell_type": "code",
   "execution_count": null,
   "metadata": {},
   "outputs": [],
   "source": []
  },
  {
   "cell_type": "code",
   "execution_count": null,
   "metadata": {},
   "outputs": [],
   "source": []
  },
  {
   "cell_type": "code",
   "execution_count": null,
   "metadata": {},
   "outputs": [],
   "source": []
  },
  {
   "cell_type": "code",
   "execution_count": null,
   "metadata": {},
   "outputs": [],
   "source": []
  },
  {
   "cell_type": "code",
   "execution_count": null,
   "metadata": {},
   "outputs": [],
   "source": []
  },
  {
   "cell_type": "code",
   "execution_count": null,
   "metadata": {},
   "outputs": [],
   "source": []
  },
  {
   "cell_type": "code",
   "execution_count": null,
   "metadata": {},
   "outputs": [],
   "source": []
  }
 ],
 "metadata": {
  "kernelspec": {
   "display_name": "Python 3",
   "language": "python",
   "name": "python3"
  },
  "language_info": {
   "codemirror_mode": {
    "name": "ipython",
    "version": 3
   },
   "file_extension": ".py",
   "mimetype": "text/x-python",
   "name": "python",
   "nbconvert_exporter": "python",
   "pygments_lexer": "ipython3",
   "version": "3.7.3"
  }
 },
 "nbformat": 4,
 "nbformat_minor": 2
}
