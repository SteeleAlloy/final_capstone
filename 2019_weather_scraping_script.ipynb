{
 "cells": [
  {
   "cell_type": "markdown",
   "metadata": {},
   "source": [
    "# Weather Data Script\n",
    "This is the script used to collect weather data (from the start of 2019 to 10/31/19) from [Weather Underground](https://www.wunderground.com/) to be used in the project \"To Everything There is a Season : Using Weather Data and Demographic Information in the Predictive Modeling of Crimes in Dallas, Texas\" by Ashley Steele. \n",
    "\n",
    "The basis for this script was borrowed from [this](https://stackoverflow.com/questions/39892710/using-pandas-to-scrape-weather-data-from-wundergound) post and modified to fit the needs of this project."
   ]
  },
  {
   "cell_type": "code",
   "execution_count": 1,
   "metadata": {},
   "outputs": [],
   "source": [
    "# Library import \n",
    "import io\n",
    "import requests\n",
    "import pandas as pd\n",
    "from dateutil import parser, rrule\n",
    "from datetime import datetime, time, date\n",
    "import time"
   ]
  },
  {
   "cell_type": "code",
   "execution_count": 3,
   "metadata": {},
   "outputs": [
    {
     "name": "stdout",
     "output_type": "stream",
     "text": [
      "Working on KTXIRVIN10\n",
      "Working on date: 2019-01-10 00:00:00 for station KTXIRVIN10\n",
      "Working on date: 2019-01-20 00:00:00 for station KTXIRVIN10\n",
      "Working on date: 2019-01-30 00:00:00 for station KTXIRVIN10\n",
      "Working on date: 2019-02-10 00:00:00 for station KTXIRVIN10\n",
      "Working on date: 2019-02-20 00:00:00 for station KTXIRVIN10\n",
      "Working on date: 2019-03-10 00:00:00 for station KTXIRVIN10\n",
      "Working on date: 2019-03-20 00:00:00 for station KTXIRVIN10\n",
      "Working on date: 2019-03-30 00:00:00 for station KTXIRVIN10\n",
      "Working on date: 2019-04-10 00:00:00 for station KTXIRVIN10\n",
      "Working on date: 2019-04-20 00:00:00 for station KTXIRVIN10\n",
      "Working on date: 2019-04-30 00:00:00 for station KTXIRVIN10\n",
      "Working on date: 2019-05-10 00:00:00 for station KTXIRVIN10\n",
      "Working on date: 2019-05-20 00:00:00 for station KTXIRVIN10\n",
      "Working on date: 2019-05-30 00:00:00 for station KTXIRVIN10\n",
      "Working on date: 2019-06-10 00:00:00 for station KTXIRVIN10\n",
      "Working on date: 2019-06-20 00:00:00 for station KTXIRVIN10\n",
      "Working on date: 2019-06-30 00:00:00 for station KTXIRVIN10\n",
      "Working on date: 2019-07-10 00:00:00 for station KTXIRVIN10\n",
      "Working on date: 2019-07-20 00:00:00 for station KTXIRVIN10\n",
      "Working on date: 2019-07-30 00:00:00 for station KTXIRVIN10\n",
      "Working on date: 2019-08-10 00:00:00 for station KTXIRVIN10\n",
      "Working on date: 2019-08-20 00:00:00 for station KTXIRVIN10\n",
      "Working on date: 2019-08-30 00:00:00 for station KTXIRVIN10\n",
      "Working on date: 2019-09-10 00:00:00 for station KTXIRVIN10\n",
      "Working on date: 2019-09-20 00:00:00 for station KTXIRVIN10\n",
      "Working on date: 2019-09-30 00:00:00 for station KTXIRVIN10\n",
      "Working on date: 2019-10-10 00:00:00 for station KTXIRVIN10\n",
      "Working on date: 2019-10-20 00:00:00 for station KTXIRVIN10\n",
      "Working on date: 2019-10-30 00:00:00 for station KTXIRVIN10\n"
     ]
    },
    {
     "name": "stderr",
     "output_type": "stream",
     "text": [
      "C:\\Users\\gothv\\Anaconda3\\lib\\site-packages\\ipykernel_launcher.py:68: FutureWarning: Sorting because non-concatenation axis is not aligned. A future version\n",
      "of pandas will change to not sort by default.\n",
      "\n",
      "To accept the future behavior, pass 'sort=False'.\n",
      "\n",
      "To retain the current behavior and silence the warning, pass 'sort=True'.\n",
      "\n"
     ]
    }
   ],
   "source": [
    "# Iterating through this script for each year of data we need & creating a new file by year\n",
    "def getRainfallData(station, day, month, year):\n",
    "    \"\"\"\n",
    "    Function to return a data frame of minute-level weather data for a single Wunderground PWS station.\n",
    "\n",
    "    Args:\n",
    "        station (string): Station code from the Wunderground website\n",
    "        day (int): Day of month for which data is requested\n",
    "        month (int): Month for which data is requested\n",
    "        year (int): Year for which data is requested\n",
    "\n",
    "    Returns:\n",
    "        Pandas Dataframe with weather data for specified station and date.\n",
    "    \"\"\"\n",
    "    url = \"http://www.wunderground.com/weatherstation/WXDailyHistory.asp?ID={station}&day={day}&month={month}&year={year}&graphspan=day&format=1\"\n",
    "    full_url = url.format(station=station, day=day, month=month, year=year)\n",
    "\n",
    "    # Request data from wunderground data\n",
    "    response = requests.get(full_url)\n",
    "    data = response.text\n",
    "    # remove the excess <br> from the text data\n",
    "    data = data.replace('<br>', '')\n",
    "\n",
    "    # Convert to pandas dataframe (fails if issues with weather station)\n",
    "    try:\n",
    "        dataframe = pd.read_csv(io.StringIO(data), index_col=False)\n",
    "        dataframe['station'] = station\n",
    "    except Exception as e:\n",
    "        print(\"Issue with date: {}-{}-{} for station {}\".format(day,month,year, station))\n",
    "        return None\n",
    "\n",
    "    return dataframe\n",
    "\n",
    "# Generate a list of all of the dates we want data for\n",
    "start_date = \"2019-01-01\"\n",
    "end_date = \"2019-10-31\"\n",
    "start = parser.parse(start_date)\n",
    "end = parser.parse(end_date)\n",
    "dates = list(rrule.rrule(rrule.DAILY, dtstart=start, until=end))\n",
    "\n",
    "# Create a list of stations here to download data for\n",
    "stations = [\"KTXIRVIN10\"]\n",
    "# Set a backoff time in seconds if a request fails\n",
    "backoff_time = 10\n",
    "data = {}\n",
    "\n",
    "# Gather data for each station in turn and save to CSV.\n",
    "for station in stations:\n",
    "    print(\"Working on {}\".format(station))\n",
    "    data[station] = []\n",
    "    for date in dates:\n",
    "        # Print period status update messages\n",
    "        if date.day % 10 == 0:\n",
    "            print(\"Working on date: {} for station {}\".format(date, station))\n",
    "        done = False\n",
    "        while done == False:\n",
    "            try:\n",
    "                weather_data = getRainfallData(station, date.day, date.month, date.year)\n",
    "                done = True\n",
    "            except ConnectionError as e:\n",
    "                # May get rate limited by Wunderground.com, backoff if so.\n",
    "                print(\"Got connection error on {}\".format(date))\n",
    "                print(\"Will retry in {} seconds\".format(backoff_time))\n",
    "                time.sleep(10)\n",
    "        # Add each processed date to the overall data\n",
    "        data[station].append(weather_data)\n",
    "    # Finally combine all of the individual days and output to CSV for analysis\n",
    "    pd.concat(data[station]).to_csv(r'2019_weather.csv'.format(station))"
   ]
  }
 ],
 "metadata": {
  "kernelspec": {
   "display_name": "Python 3",
   "language": "python",
   "name": "python3"
  },
  "language_info": {
   "codemirror_mode": {
    "name": "ipython",
    "version": 3
   },
   "file_extension": ".py",
   "mimetype": "text/x-python",
   "name": "python",
   "nbconvert_exporter": "python",
   "pygments_lexer": "ipython3",
   "version": "3.7.4"
  }
 },
 "nbformat": 4,
 "nbformat_minor": 2
}
